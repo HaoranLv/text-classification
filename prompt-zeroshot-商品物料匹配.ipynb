{
 "cells": [
  {
   "cell_type": "code",
   "execution_count": 1,
   "id": "5d2cafeb",
   "metadata": {},
   "outputs": [
    {
     "name": "stdout",
     "output_type": "stream",
     "text": [
      "--------!"
     ]
    },
    {
     "data": {
      "text/plain": [
       "{'sequence': 'Hi, I recently bought a device from your company but it is not working as advertised and I would like to get reimbursed!',\n",
       " 'labels': ['refund', 'legal', 'faq'],\n",
       " 'scores': [0.7119424343109131, 0.14697127044200897, 0.14108633995056152]}"
      ]
     },
     "execution_count": 1,
     "metadata": {},
     "output_type": "execute_result"
    }
   ],
   "source": [
    "from sagemaker.huggingface import HuggingFaceModel\n",
    "import sagemaker\n",
    "\n",
    "role = sagemaker.get_execution_role()\n",
    "# Hub Model configuration. https://huggingface.co/models\n",
    "hub = {\n",
    "\t'HF_MODEL_ID':'MoritzLaurer/mDeBERTa-v3-base-mnli-xnli',\n",
    "\t'HF_TASK':'zero-shot-classification'\n",
    "}\n",
    "\n",
    "# create Hugging Face Model Class\n",
    "huggingface_model = HuggingFaceModel(\n",
    "\ttransformers_version='4.6.1',\n",
    "\tpytorch_version='1.7.1',\n",
    "\tpy_version='py36',\n",
    "\tenv=hub,\n",
    "\trole=role, \n",
    ")\n",
    "\n",
    "# deploy model to SageMaker Inference\n",
    "predictor = huggingface_model.deploy(\n",
    "\tinitial_instance_count=1, # number of instances\n",
    "\tinstance_type='ml.g4dn.2xlarge' # ec2 instance type\n",
    ")\n",
    "\n",
    "predictor.predict({\n",
    "\t'inputs': \"Hi, I recently bought a device from your company but it is not working as advertised and I would like to get reimbursed!\",\n",
    "    \"parameters\": {\n",
    "        \"candidate_labels\": [\n",
    "            \"refund\",\n",
    "            \"legal\",\n",
    "            \"faq\"\n",
    "        ]\n",
    "    }\n",
    "})"
   ]
  },
  {
   "cell_type": "code",
   "execution_count": 5,
   "id": "7c76d43a",
   "metadata": {},
   "outputs": [],
   "source": [
    "def get_res(model, querys, candidate_labels, seg_len):\n",
    "#     import time\n",
    "    if len(candidate_labels)<seg_len:\n",
    "        return model.predict({'inputs': querys,\"parameters\": {\"candidate_labels\": candidate_labels}})['labels'][0]\n",
    "    else:\n",
    "        candidate_labels_small=[]\n",
    "        seg=len(candidate_labels)//seg_len\n",
    "        for i in range(seg):\n",
    "            candidate_labels_small.append(model.predict({'inputs': querys,\"parameters\": {\"candidate_labels\": candidate_labels[i*seg_len:(i+1)*seg_len]}})['labels'][0])\n",
    "#             time.sleep(2)\n",
    "        if len(candidate_labels)%seg_len>0:\n",
    "            candidate_labels_small.append(model.predict({'inputs': querys,\"parameters\": {\"candidate_labels\": candidate_labels[seg*seg_len:]}})['labels'][0])\n",
    "        return model.predict({'inputs': querys,\"parameters\": {\"candidate_labels\": candidate_labels_small}})['labels'][0]"
   ]
  },
  {
   "cell_type": "code",
   "execution_count": 8,
   "id": "b3e6c1a4",
   "metadata": {},
   "outputs": [
    {
     "data": {
      "text/plain": [
       "{'sequence': '得力(deli)小号金属外壳办公家用美工刀/裁纸刀 办公用品 2053',\n",
       " 'labels': ['小号美工刀', '大桶装液体胶水7310', '切纸刀/21X16木质/8001/得力'],\n",
       " 'scores': [0.9952664971351624, 0.002810346195474267, 0.001923118019476533]}"
      ]
     },
     "execution_count": 8,
     "metadata": {},
     "output_type": "execute_result"
    }
   ],
   "source": [
    "predictor.predict({\n",
    "\t'inputs': [\"得力(deli)小号金属外壳办公家用美工刀/裁纸刀 办公用品 2053\"],\n",
    "    \"parameters\": {\n",
    "        \"candidate_labels\": [\n",
    "            \"小号美工刀\",\n",
    "            \"切纸刀/21X16木质/8001/得力\",\n",
    "            '大桶装液体胶水7310'\n",
    "        ]\n",
    "    }\n",
    "})"
   ]
  },
  {
   "cell_type": "code",
   "execution_count": 111,
   "id": "cb8af747",
   "metadata": {},
   "outputs": [],
   "source": [
    "from sagemaker.huggingface import HuggingFaceModel, HuggingFacePredictor\n",
    "import sagemaker\n",
    "\n",
    "huggingface_predictor=HuggingFacePredictor(\n",
    "    endpoint_name='huggingface-pytorch-inference-2022-03-15-12-09-15-867',\n",
    ")"
   ]
  },
  {
   "cell_type": "markdown",
   "id": "f5e10b82",
   "metadata": {},
   "source": [
    "# 模型匹配正确"
   ]
  },
  {
   "cell_type": "code",
   "execution_count": 37,
   "id": "93c58f01",
   "metadata": {},
   "outputs": [
    {
     "name": "stdout",
     "output_type": "stream",
     "text": [
      "---模型匹配---\n",
      "Sents: 得力(deli)小号金属外壳办公家用美工刀/裁纸刀 办公用品 2053\n",
      "Label: 小号美工刀\n",
      "pred: 小号美工刀 score: 0.9296925663948059\n",
      "pred: 美工刀/2003/8刀头/得力 score: 0.0624050609767437\n",
      "pred: 美工刀片/NO.2011/100*18*0.5mm/得力 score: 0.006105995737016201\n",
      "pred: 切纸刀/21X16木质/8001/得力 score: 0.0017964026192203164\n"
     ]
    }
   ],
   "source": [
    "print('---模型匹配---')\n",
    "out=huggingface_predictor.predict({\n",
    "\t'inputs': \"得力(deli)小号金属外壳办公家用美工刀/裁纸刀 办公用品 2053\",\n",
    "    \"parameters\": {\n",
    "        \"candidate_labels\": [\n",
    "            \"小号美工刀\",\n",
    "            \"切纸刀/21X16木质/8001/得力\",\n",
    "            \"美工刀片/NO.2011/100*18*0.5mm/得力\",\n",
    "            \"美工刀/2003/8刀头/得力\"\n",
    "        ]\n",
    "    }\n",
    "})\n",
    "print(\"Sents:\", out['sequence'])\n",
    "print(\"Label: 小号美工刀\")\n",
    "for i in range(len(out['labels'])):\n",
    "    print(\"pred:\",out['labels'][i],\"score:\",out['scores'][i])"
   ]
  },
  {
   "cell_type": "code",
   "execution_count": 45,
   "id": "e1e9dfbb",
   "metadata": {},
   "outputs": [
    {
     "name": "stdout",
     "output_type": "stream",
     "text": [
      "---模型匹配---\n",
      "Sents: 得力(deli)502强力胶 快干无色胶水 8g/支 10瓶装 办公用品 7144\n",
      "Label: 502强力胶8g/支\n",
      "pred: 502强力胶8g/支 score: 0.9326900243759155\n",
      "pred: 大桶装液体胶水7310 score: 0.03859197720885277\n",
      "pred: 液体胶水/7302/70ml/得力 score: 0.015977470204234123\n",
      "pred: 液体胶水/7302/50ml/得力 score: 0.01274050585925579\n"
     ]
    }
   ],
   "source": [
    "print('---模型匹配---')\n",
    "out=huggingface_predictor.predict({\n",
    "\t'inputs': \"得力(deli)502强力胶 快干无色胶水 8g/支 10瓶装 办公用品 7144\",\n",
    "    \"parameters\": {\n",
    "        \"candidate_labels\": [\n",
    "            \"大桶装液体胶水7310\",\n",
    "            \"502强力胶8g/支\",\n",
    "            \"液体胶水/7302/70ml/得力\",\n",
    "            \"液体胶水/7302/50ml/得力\"\n",
    "        ]\n",
    "    }\n",
    "})\n",
    "print(\"Sents:\", out['sequence'])\n",
    "print(\"Label: 502强力胶8g/支\")\n",
    "for i in range(len(out['labels'])):\n",
    "    print(\"pred:\",out['labels'][i],\"score:\",out['scores'][i])"
   ]
  },
  {
   "cell_type": "markdown",
   "id": "e67b7500",
   "metadata": {},
   "source": [
    "# 模型匹配正确但是label不正确"
   ]
  },
  {
   "cell_type": "code",
   "execution_count": 38,
   "id": "b803c5b5",
   "metadata": {},
   "outputs": [
    {
     "name": "stdout",
     "output_type": "stream",
     "text": [
      "---模型匹配---\n",
      "Sents: 得力(deli)20cm办公通用直尺 测量绘图尺子 办公用品 6220\n",
      "Label: 有机直尺/30cm/得力\n",
      "pred: 办公用尺 score: 0.9851844906806946\n",
      "pred: 外径千分尺(200-225mm) score: 0.004220536909997463\n",
      "pred: 多功能数字显示角度测量仪(BOSCH \\GAM220) score: 0.0041100019589066505\n",
      "pred: 有机直尺/30cm/得力 score: 0.003446540329605341\n",
      "pred: 数显卡尺(0-200mm) score: 0.0030384077690541744\n"
     ]
    }
   ],
   "source": [
    "\n",
    "print('---模型匹配---')\n",
    "out=huggingface_predictor.predict({\n",
    "\t'inputs': \"得力(deli)20cm办公通用直尺 测量绘图尺子 办公用品 6220\",\n",
    "    \"parameters\": {\n",
    "        \"candidate_labels\": [\n",
    "            \"办公用尺\",\n",
    "            \"外径千分尺(200-225mm)\",\n",
    "            \"多功能数字显示角度测量仪(BOSCH \\GAM220)\",\n",
    "            \"数显卡尺(0-200mm)\",\n",
    "            \"有机直尺/30cm/得力\"\n",
    "        ]\n",
    "    }\n",
    "})\n",
    "print(\"Sents:\", out['sequence'])\n",
    "print(\"Label: 有机直尺/30cm/得力\")\n",
    "for i in range(len(out['labels'])):\n",
    "    print(\"pred:\",out['labels'][i],\"score:\",out['scores'][i])"
   ]
  },
  {
   "cell_type": "code",
   "execution_count": 40,
   "id": "4344c9ca",
   "metadata": {},
   "outputs": [
    {
     "name": "stdout",
     "output_type": "stream",
     "text": [
      "---模型匹配---\n",
      "Sents: 晨光(M&G)文具G-5黑色0.5mm按动子弹头中性笔芯 签字笔替芯 水笔芯 K35/S01/S08适用 20支/盒\n",
      "Label: 中性笔芯/G-5/0.5MM芯 按动款蓝色/晨光\n",
      "pred: 中性笔芯/G-5/0.5MM芯 按动款黑色/晨光 score: 0.4832707643508911\n",
      "pred: 签字笔/K-35/按动0.5MM芯 黑色/晨光 score: 0.2497372329235077\n",
      "pred: 中性笔芯/G-5/0.5MM芯 按动款红色/晨光 score: 0.2118282914161682\n",
      "pred: 中性笔芯/G-5/0.5MM芯 按动款蓝色/晨光 score: 0.05416397377848625\n",
      "pred: 外径千分尺(200-225mm) score: 0.0009997383458539844\n"
     ]
    }
   ],
   "source": [
    "\n",
    "print('---模型匹配---')\n",
    "out=huggingface_predictor.predict({\n",
    "\t'inputs': \"晨光(M&G)文具G-5黑色0.5mm按动子弹头中性笔芯 签字笔替芯 水笔芯 K35/S01/S08适用 20支/盒\",\n",
    "    \"parameters\": {\n",
    "        \"candidate_labels\": [\n",
    "            \"签字笔/K-35/按动0.5MM芯 黑色/晨光\",\n",
    "            \"外径千分尺(200-225mm)\",\n",
    "            \"中性笔芯/G-5/0.5MM芯 按动款蓝色/晨光\",\n",
    "            \"中性笔芯/G-5/0.5MM芯 按动款红色/晨光\",\n",
    "            \"中性笔芯/G-5/0.5MM芯 按动款黑色/晨光\"\n",
    "        ]\n",
    "    }\n",
    "})\n",
    "print(\"Sents:\", out['sequence'])\n",
    "print(\"Label: 中性笔芯/G-5/0.5MM芯 按动款蓝色/晨光\")\n",
    "for i in range(len(out['labels'])):\n",
    "    print(\"pred:\",out['labels'][i],\"score:\",out['scores'][i])"
   ]
  },
  {
   "cell_type": "code",
   "execution_count": 113,
   "id": "77c0bce6",
   "metadata": {},
   "outputs": [
    {
     "name": "stdout",
     "output_type": "stream",
     "text": [
      "---模型匹配---\n",
      "Sents: 齐心(Comix) 10个装 55mm牢固耐用粘扣档案盒/A4文件盒/资料盒 EA1002-10 蓝色\n",
      "Label: 档案盒/HC-75/A4,3寸,75mm、PP/齐心\n",
      "pred: 档案盒/HC-55/A4,3寸,55mm、PP/齐心 score: 0.49754753708839417\n",
      "pred: 档案盒/HC-55/A5,3寸,55mm、PP/齐心 score: 0.25272226333618164\n",
      "pred: 档案盒/HC-55/A4,3寸,65mm、PP/齐心 score: 0.12165962904691696\n",
      "pred: 档案盒/HC-55/A4,2寸,75mm、PP/齐心 score: 0.12124229222536087\n",
      "pred: 中性笔芯/G-5/0.5MM芯 按动款蓝色/晨光 score: 0.006828295532613993\n"
     ]
    }
   ],
   "source": [
    "\n",
    "print('---模型匹配---')\n",
    "out=huggingface_predictor.predict({\n",
    "\t'inputs': \"齐心(Comix) 10个装 55mm牢固耐用粘扣档案盒/A4文件盒/资料盒 EA1002-10 蓝色\",\n",
    "    \"parameters\": {\n",
    "        \"candidate_labels\": [\n",
    "            \"中性笔芯/G-5/0.5MM芯 按动款蓝色/晨光\",\n",
    "            \"档案盒/HC-55/A4,2寸,75mm、PP/齐心\",\n",
    "            \"档案盒/HC-55/A4,3寸,55mm、PP/齐心\",\n",
    "            \"档案盒/HC-55/A5,3寸,55mm、PP/齐心\",\n",
    "            \"档案盒/HC-55/A4,3寸,65mm、PP/齐心\"\n",
    "        ]\n",
    "    }\n",
    "})\n",
    "print(\"Sents:\", out['sequence'])\n",
    "print(\"Label: 档案盒/HC-75/A4,3寸,75mm、PP/齐心\")\n",
    "for i in range(len(out['labels'])):\n",
    "    print(\"pred:\",out['labels'][i],\"score:\",out['scores'][i])"
   ]
  },
  {
   "cell_type": "code",
   "execution_count": 48,
   "id": "ff7332c2",
   "metadata": {},
   "outputs": [
    {
     "name": "stdout",
     "output_type": "stream",
     "text": [
      "---模型匹配---\n",
      "Sents: 接触器\n",
      "Label: 其他电力电缆\n",
      "pred: 其他电力电缆 score: 0.3926471769809723\n",
      "pred: 其他电器元件及附件 score: 0.20877528190612793\n",
      "pred: 其他日化用品 score: 0.167989119887352\n",
      "pred: 其他杂品 score: 0.15777894854545593\n",
      "pred: 护肤用品 score: 0.07280945777893066\n"
     ]
    }
   ],
   "source": [
    "\n",
    "print('---模型匹配---')\n",
    "out=huggingface_predictor.predict({\n",
    "\t'inputs': \"接触器\",\n",
    "    \"parameters\": {\n",
    "        \"candidate_labels\": [\n",
    "            \"其他电器元件及附件\",\n",
    "            \"其他日化用品\",\n",
    "            \"其他电力电缆\",\n",
    "            \"其他杂品\",\n",
    "            \"护肤用品\"\n",
    "        ]\n",
    "    }\n",
    "})\n",
    "print(\"Sents:\", out['sequence'])\n",
    "print(\"Label: 其他电力电缆\")\n",
    "for i in range(len(out['labels'])):\n",
    "    print(\"pred:\",out['labels'][i],\"score:\",out['scores'][i])"
   ]
  },
  {
   "cell_type": "code",
   "execution_count": 142,
   "id": "2be4e4aa",
   "metadata": {},
   "outputs": [
    {
     "data": {
      "text/plain": [
       "Index(['客户主营业务', '商品名称', '平台分类', '物料编码', '物料名称', '物料品类'], dtype='object')"
      ]
     },
     "execution_count": 142,
     "metadata": {},
     "output_type": "execute_result"
    }
   ],
   "source": [
    "import pandas as pd\n",
    "data = pd.read_excel('./data/客户物料数据.xlsx')\n",
    "data.columns"
   ]
  },
  {
   "cell_type": "code",
   "execution_count": 145,
   "id": "6fa51b04",
   "metadata": {},
   "outputs": [
    {
     "name": "stdout",
     "output_type": "stream",
     "text": [
      "['电力机车、城轨车辆' '物业管理' '钢材、有色金属、各类建材、化工原料（不含危险品）、机械设备及零配件' '家居制造']\n"
     ]
    },
    {
     "data": {
      "text/plain": [
       "2038"
      ]
     },
     "execution_count": 145,
     "metadata": {},
     "output_type": "execute_result"
    }
   ],
   "source": [
    "print(data['客户主营业务'].unique())\n",
    "df=data[data['客户主营业务']=='电力机车、城轨车辆']\n",
    "candidate_labels=list(df[\"物料名称\"].unique())\n",
    "queries=list(df[\"商品名称\"])\n",
    "labels=list(df[\"物料名称\"])\n",
    "len(candidate_labels)"
   ]
  },
  {
   "cell_type": "markdown",
   "id": "9b31f14f",
   "metadata": {},
   "source": [
    "# prompt推理"
   ]
  },
  {
   "cell_type": "code",
   "execution_count": 6,
   "id": "e10ee2f1",
   "metadata": {},
   "outputs": [
    {
     "name": "stdout",
     "output_type": "stream",
     "text": [
      "电力机车、城轨车辆\n"
     ]
    }
   ],
   "source": [
    "import time\n",
    "import pandas as pd\n",
    "data=pd.read_excel('./data/客户物料数据.xlsx')\n",
    "zhbm=data['客户主营业务'].unique()\n",
    "res={}\n",
    "model=predictor\n",
    "for i in zhbm:\n",
    "    res[i]={}\n",
    "    print(i)\n",
    "    df=data[data['客户主营业务']==i]\n",
    "    candidate_labels=list(df[\"物料名称\"].unique())\n",
    "    queries=list(df[\"商品名称\"])\n",
    "    labels=list(df[\"物料名称\"])\n",
    "    for j in range(len(queries)):\n",
    "        res[i][queries[j]]={}\n",
    "        res[i][queries[j]]['prompt res']=get_res(model=model, querys=queries[j], candidate_labels=candidate_labels, seg_len=500)\n",
    "        res[i][queries[j]]['label']=labels[j]\n",
    "        break\n",
    "    break\n",
    "# import numpy as np\n",
    "# np.save('prompt_final_res.npy', res) "
   ]
  },
  {
   "cell_type": "code",
   "execution_count": 7,
   "id": "9f07c213",
   "metadata": {},
   "outputs": [
    {
     "data": {
      "text/plain": [
       "{'电力机车、城轨车辆': {'得力(deli)小号金属外壳办公家用美工刀/裁纸刀 办公用品 2053': {'prompt res': '小号美工刀',\n",
       "   'label': '小号美工刀'}}}"
      ]
     },
     "execution_count": 7,
     "metadata": {},
     "output_type": "execute_result"
    }
   ],
   "source": [
    "res"
   ]
  },
  {
   "cell_type": "code",
   "execution_count": 26,
   "id": "47fec943",
   "metadata": {},
   "outputs": [
    {
     "data": {
      "text/plain": [
       "'其他电力电缆'"
      ]
     },
     "execution_count": 26,
     "metadata": {},
     "output_type": "execute_result"
    }
   ],
   "source": [
    "# candidate_labels.append('其他电力电缆')\n",
    "candidate_labels[-1]"
   ]
  },
  {
   "cell_type": "code",
   "execution_count": null,
   "id": "817ffc41",
   "metadata": {},
   "outputs": [],
   "source": [
    "out=predictor.predict({\n",
    "\t'inputs': \"接触器\",\n",
    "    \"parameters\": {\n",
    "        \"candidate_labels\": candidate_labels[:10]\n",
    "    }\n",
    "})\n"
   ]
  },
  {
   "cell_type": "code",
   "execution_count": 129,
   "id": "c4d4a28a",
   "metadata": {},
   "outputs": [],
   "source": [
    "import numpy as np\n",
    "\n",
    "res=np.load('t50.npy',allow_pickle=True).item()"
   ]
  },
  {
   "cell_type": "code",
   "execution_count": null,
   "id": "46ee2537",
   "metadata": {},
   "outputs": [
    {
     "name": "stdout",
     "output_type": "stream",
     "text": [
      "电力机车、城轨车辆\n"
     ]
    }
   ],
   "source": [
    "# res\n",
    "for key,val in res.items():\n",
    "    print(key)\n",
    "    for k,v in res[key].items():\n",
    "        candidate_labels=v['pred']\n",
    "        queries=k\n",
    "        out=predictor.predict({\n",
    "        'inputs': queries,\n",
    "        \"parameters\": {\n",
    "            \"candidate_labels\": candidate_labels}})\n",
    "        res[key][k]['prompt pred']=out['labels'][0]\n",
    "np.save('prompt_res.npy', res)"
   ]
  },
  {
   "cell_type": "code",
   "execution_count": 132,
   "id": "4c6ccd30",
   "metadata": {},
   "outputs": [],
   "source": [
    "import pandas as pd\n",
    "data = pd.read_excel('./data/客户物料数据.xlsx')\n",
    "data['prompt']=''\n",
    "r={}\n",
    "i=0\n",
    "customer, querys, labs, preds, prompt_preds=[],[],[],[],[]\n",
    "for key,val in res.items():\n",
    "    for k,v in val.items():\n",
    "        customer.append(key)\n",
    "        querys.append(k)\n",
    "        labs.append(v['labels'])\n",
    "        preds.append(v['pred'][0])\n",
    "        prompt_preds.append(v['prompt pred'])\n"
   ]
  },
  {
   "cell_type": "code",
   "execution_count": 136,
   "id": "7bb75bf7",
   "metadata": {},
   "outputs": [
    {
     "data": {
      "text/html": [
       "<div>\n",
       "<style scoped>\n",
       "    .dataframe tbody tr th:only-of-type {\n",
       "        vertical-align: middle;\n",
       "    }\n",
       "\n",
       "    .dataframe tbody tr th {\n",
       "        vertical-align: top;\n",
       "    }\n",
       "\n",
       "    .dataframe thead th {\n",
       "        text-align: right;\n",
       "    }\n",
       "</style>\n",
       "<table border=\"1\" class=\"dataframe\">\n",
       "  <thead>\n",
       "    <tr style=\"text-align: right;\">\n",
       "      <th></th>\n",
       "      <th>客户主营业务</th>\n",
       "      <th>商品名称</th>\n",
       "      <th>物料名称</th>\n",
       "      <th>zero-shot预测</th>\n",
       "      <th>prompt预测</th>\n",
       "    </tr>\n",
       "  </thead>\n",
       "  <tbody>\n",
       "    <tr>\n",
       "      <th>0</th>\n",
       "      <td>电力机车、城轨车辆</td>\n",
       "      <td>得力(deli)小号金属外壳办公家用美工刀/裁纸刀 办公用品 2053</td>\n",
       "      <td>小号美工刀</td>\n",
       "      <td>切纸刀/21X16木质/8001/得力</td>\n",
       "      <td>美工刀/2003/8刀头/得力</td>\n",
       "    </tr>\n",
       "    <tr>\n",
       "      <th>1</th>\n",
       "      <td>电力机车、城轨车辆</td>\n",
       "      <td>得力(deli)20cm办公通用直尺 测量绘图尺子 办公用品 6220</td>\n",
       "      <td>有机直尺/30cm/得力</td>\n",
       "      <td>办公用尺</td>\n",
       "      <td>办公用尺</td>\n",
       "    </tr>\n",
       "    <tr>\n",
       "      <th>2</th>\n",
       "      <td>电力机车、城轨车辆</td>\n",
       "      <td>晨光(M&amp;G)文具G-5黑色0.5mm按动子弹头中性笔芯 签字笔替芯 水笔芯 K35/S01...</td>\n",
       "      <td>中性笔芯/G-5/0.5MM芯 按动款蓝色/晨光</td>\n",
       "      <td>中性笔芯/G-5/0.5MM芯 按动款黑色/晨光</td>\n",
       "      <td>中性笔芯/G-5/0.5MM芯 按动款黑色/晨光</td>\n",
       "    </tr>\n",
       "    <tr>\n",
       "      <th>3</th>\n",
       "      <td>电力机车、城轨车辆</td>\n",
       "      <td>得力(deli)10只A4透明抽杆文件夹拉杆夹 简历报告夹商务会议资料产检报告收纳 33223白色</td>\n",
       "      <td>抽杆夹/Q310/A4，容纸量30张/齐心</td>\n",
       "      <td>A4透明抽杆夹</td>\n",
       "      <td>加厚透明文件袋</td>\n",
       "    </tr>\n",
       "    <tr>\n",
       "      <th>4</th>\n",
       "      <td>电力机车、城轨车辆</td>\n",
       "      <td>齐心(Comix) 10个装 55mm牢固耐用粘扣档案盒/A4文件盒/资料盒 EA1002-...</td>\n",
       "      <td>档案盒/HC-75/A4,3寸,75mm、PP/齐心</td>\n",
       "      <td>档案盒/HC-55/A4,2寸,55mm、PP/齐心</td>\n",
       "      <td>档案盒/HC-55/A4,2寸,55mm、PP/齐心</td>\n",
       "    </tr>\n",
       "  </tbody>\n",
       "</table>\n",
       "</div>"
      ],
      "text/plain": [
       "      客户主营业务                                               商品名称  \\\n",
       "0  电力机车、城轨车辆                得力(deli)小号金属外壳办公家用美工刀/裁纸刀 办公用品 2053   \n",
       "1  电力机车、城轨车辆                得力(deli)20cm办公通用直尺 测量绘图尺子 办公用品 6220   \n",
       "2  电力机车、城轨车辆  晨光(M&G)文具G-5黑色0.5mm按动子弹头中性笔芯 签字笔替芯 水笔芯 K35/S01...   \n",
       "3  电力机车、城轨车辆  得力(deli)10只A4透明抽杆文件夹拉杆夹 简历报告夹商务会议资料产检报告收纳 33223白色   \n",
       "4  电力机车、城轨车辆  齐心(Comix) 10个装 55mm牢固耐用粘扣档案盒/A4文件盒/资料盒 EA1002-...   \n",
       "\n",
       "                         物料名称                 zero-shot预测  \\\n",
       "0                       小号美工刀         切纸刀/21X16木质/8001/得力   \n",
       "1                有机直尺/30cm/得力                        办公用尺   \n",
       "2    中性笔芯/G-5/0.5MM芯 按动款蓝色/晨光    中性笔芯/G-5/0.5MM芯 按动款黑色/晨光   \n",
       "3       抽杆夹/Q310/A4，容纸量30张/齐心                     A4透明抽杆夹   \n",
       "4  档案盒/HC-75/A4,3寸,75mm、PP/齐心  档案盒/HC-55/A4,2寸,55mm、PP/齐心   \n",
       "\n",
       "                     prompt预测  \n",
       "0             美工刀/2003/8刀头/得力  \n",
       "1                        办公用尺  \n",
       "2    中性笔芯/G-5/0.5MM芯 按动款黑色/晨光  \n",
       "3                     加厚透明文件袋  \n",
       "4  档案盒/HC-55/A4,2寸,55mm、PP/齐心  "
      ]
     },
     "execution_count": 136,
     "metadata": {},
     "output_type": "execute_result"
    }
   ],
   "source": [
    "R={'客户主营业务':customer, '商品名称':querys, '物料名称':labs, 'zero-shot预测':preds, 'prompt预测':prompt_preds}\n",
    "df=pd.DataFrame(R)\n",
    "# df.to_csv('物料结果.csv',index=False)\n",
    "df.head()"
   ]
  },
  {
   "cell_type": "code",
   "execution_count": 138,
   "id": "b9b28a3e",
   "metadata": {},
   "outputs": [
    {
     "data": {
      "text/plain": [
       "{'电力机车、城轨车辆': {'nums': 2985, 'prompt true': 1211, 'zs_true': 945},\n",
       " '物业管理': {'nums': 50535, 'prompt true': 27796, 'zs_true': 20979},\n",
       " '钢材、有色金属、各类建材、化工原料（不含危险品）、机械设备及零配件': {'nums': 24057,\n",
       "  'prompt true': 12819,\n",
       "  'zs_true': 10675},\n",
       " '家居制造': {'nums': 7369, 'prompt true': 4950, 'zs_true': 4713}}"
      ]
     },
     "execution_count": 138,
     "metadata": {},
     "output_type": "execute_result"
    }
   ],
   "source": [
    "correct={}\n",
    "for i in range(len(df)):\n",
    "    if df.loc[i,'客户主营业务'] not in correct.keys():\n",
    "        correct[df.loc[i,'客户主营业务']]={'nums':0, 'prompt true':0, 'zs_true':0}\n",
    "    if df.loc[i,'物料名称']==df.loc[i,'zero-shot预测']:\n",
    "        correct[df.loc[i,'客户主营业务']]['zs_true']+=1\n",
    "    if df.loc[i,'物料名称']==df.loc[i,'prompt预测']:\n",
    "        correct[df.loc[i,'客户主营业务']]['prompt true']+=1\n",
    "    correct[df.loc[i,'客户主营业务']]['nums']+=1\n",
    "correct"
   ]
  },
  {
   "cell_type": "code",
   "execution_count": 141,
   "id": "25a75abc",
   "metadata": {},
   "outputs": [
    {
     "name": "stdout",
     "output_type": "stream",
     "text": [
      "84946 46776 37312\n"
     ]
    },
    {
     "data": {
      "text/plain": [
       "{'电力机车、城轨车辆': {'nums': 2985,\n",
       "  'prompt true': 1211,\n",
       "  'zs_true': 945,\n",
       "  'zs_acc': 0.3165829145728643,\n",
       "  'pro_acc': 0.40569514237855947},\n",
       " '物业管理': {'nums': 50535,\n",
       "  'prompt true': 27796,\n",
       "  'zs_true': 20979,\n",
       "  'zs_acc': 0.4151380231522707,\n",
       "  'pro_acc': 0.5500346294647274},\n",
       " '钢材、有色金属、各类建材、化工原料（不含危险品）、机械设备及零配件': {'nums': 24057,\n",
       "  'prompt true': 12819,\n",
       "  'zs_true': 10675,\n",
       "  'zs_acc': 0.44373778941680175,\n",
       "  'pro_acc': 0.5328594587853848},\n",
       " '家居制造': {'nums': 7369,\n",
       "  'prompt true': 4950,\n",
       "  'zs_true': 4713,\n",
       "  'zs_acc': 0.6395711765504138,\n",
       "  'pro_acc': 0.6717329352693717}}"
      ]
     },
     "execution_count": 141,
     "metadata": {},
     "output_type": "execute_result"
    }
   ],
   "source": [
    "total_num=0\n",
    "total_corr_prompt=0\n",
    "total_corr_zs=0\n",
    "for k,v in correct.items():\n",
    "    total_num+=v['nums']\n",
    "    total_corr_prompt+=v['prompt true']\n",
    "    total_corr_zs+=v['zs_true']\n",
    "    correct[k]['zs_acc']=correct[k]['zs_true']/correct[k]['nums']\n",
    "    correct[k]['pro_acc']=correct[k]['prompt true']/correct[k]['nums']\n",
    "print(total_num, total_corr_prompt, total_corr_zs)\n",
    "correct\n",
    "# total_num\n",
    "# total_corr_prompt\n",
    "# total_corr_zs"
   ]
  },
  {
   "cell_type": "code",
   "execution_count": 131,
   "id": "a453c288",
   "metadata": {},
   "outputs": [
    {
     "data": {
      "text/plain": [
       "{'labels': '中性笔芯/G-5/0.5MM芯 按动款蓝色/晨光',\n",
       " 'pred': ['中性笔芯/G-5/0.5MM芯 按动款黑色/晨光',\n",
       "  '签字笔/K-35/按动0.5MM芯 黑色/晨光',\n",
       "  '中性笔芯/G-5/0.5MM芯 按动款红色/晨光',\n",
       "  '中性笔芯/G-5/0.5MM芯 按动款蓝色/晨光',\n",
       "  '中性笔芯替换芯/0.5mm/黑色/MG-13/晨光',\n",
       "  '中性笔芯/007/0.5MM芯 直筒黑色/晨光',\n",
       "  '签字笔/K-35/按动0.5MM芯红色/晨光',\n",
       "  '签字笔/K-35/按动0.5MM芯/蓝色/晨光',\n",
       "  '中性笔芯/MG-6128/0.7MM芯 直筒黑色/晨光',\n",
       "  '子弹头笔芯/S760/0.5mm/黑色/得力',\n",
       "  '中性笔/S25/0.5mm黑色/得力',\n",
       "  '中性笔芯/007/0.5MM芯 直筒蓝色/晨光',\n",
       "  '中性笔芯/007/0.5MM芯 直筒红色/晨光',\n",
       "  '全针管笔芯/A708/0.35mm笔芯/黑色/得力',\n",
       "  '记号笔/MG-2110（大号）/黑色/晨光',\n",
       "  '中性笔芯/MG-6128/0.7MM芯 直筒蓝色/晨光',\n",
       "  '中性笔芯/MG-6128/0.7MM芯 直筒红色/晨光',\n",
       "  '台笔/6791/0.35mm芯黑色/得力',\n",
       "  '圆珠笔/41701/0.7MM 按动款黑色/晨光',\n",
       "  '直液式走珠笔签字笔 0.5mm 5支/袋',\n",
       "  '高级信纸/XG-B502/B5/174*248mm',\n",
       "  '4色圆珠笔/MF-1006/0.5mm/晨光',\n",
       "  '墨盒/T057黑色/用于爱普生ME1+/爱普生',\n",
       "  '记号笔/MG-2110（大号）/蓝色/晨光',\n",
       "  '墨盒/5BK黑色/用于佳能XI4000、5000/佳能',\n",
       "  '签字笔/GP-1150/黑色/晨光',\n",
       "  '记号笔/MG-2110（大号）/红色/晨光',\n",
       "  '记号笔/MK804（小号）/黑色/齐心',\n",
       "  '签字笔/UB-150/直液式0.5签字笔黑色/三菱',\n",
       "  '202a硒鼓适用惠普M281FDW硒鼓 M254DW/NW M281FDN M280NW cf500a黑色带芯片打印机粉盒',\n",
       "  'PG-815黑色墨盒(适用iP2780/iP2788/MP236/MP288）',\n",
       "  '硒鼓/CF510黑色/用于惠普M181彩激/兰韵',\n",
       "  'CF360A硒鼓 适用惠普M553N M553DN M553X M577C M577Z M577F打印机粉盒hp508A黑色硒鼓再生',\n",
       "  '硒鼓/CF510黑色/用于惠普M154A彩色打印机/惠普',\n",
       "  '公制全抛光棘轮两用扳(手世达43201 M5 公制8mm)',\n",
       "  '墨盒/825黑色/用于佳能6180、5180、5280、6280/佳能',\n",
       "  '卷笔刀/0588/40mm*32mm*22mm/得力',\n",
       "  ' S26 0.7mm 黑色 碳素签字笔',\n",
       "  '档案盒/HC-35/A4,1.5寸,35mm、PP/齐心',\n",
       "  '佳能GI-80墨水四色套装墨盒(适用于canon打印机G5080 G6080墨仓连供GI80墨水)',\n",
       "  'A5活页芯/925#/142x205mmm、6孔、92页/智尚',\n",
       "  '墨盒/T058彩色/用于爱普生ME1+/爱普生',\n",
       "  '米字起子头(VESSEL B35/PZ1*50mm)',\n",
       "  '中性笔/S26/0.7mm/得力',\n",
       "  '圆珠笔/41701/0.7MM 按动款红色/晨光',\n",
       "  '碳带/120BG/用于博思得Q8 斑马ZD500热转印打印机/理光',\n",
       "  '墨盒/851C黑色/用于佳能ix6700/佳能',\n",
       "  '硒鼓/410黑色/用于惠普M351 M451 M475 M375/兰韵',\n",
       "  '荧光笔/S619/5支装/绿色/得力',\n",
       "  '荧光笔/FHM21003/紫色/晨光'],\n",
       " 'prompt pred': '中性笔芯/G-5/0.5MM芯 按动款黑色/晨光'}"
      ]
     },
     "execution_count": 131,
     "metadata": {},
     "output_type": "execute_result"
    }
   ],
   "source": [
    "res['电力机车、城轨车辆']['晨光(M&G)文具G-5黑色0.5mm按动子弹头中性笔芯 签字笔替芯 水笔芯 K35/S01/S08适用 20支/盒']"
   ]
  },
  {
   "cell_type": "code",
   "execution_count": null,
   "id": "9cf84995",
   "metadata": {},
   "outputs": [],
   "source": [
    "print(111)"
   ]
  },
  {
   "cell_type": "code",
   "execution_count": null,
   "id": "5cabdf29",
   "metadata": {},
   "outputs": [],
   "source": []
  }
 ],
 "metadata": {
  "kernelspec": {
   "display_name": "conda_pytorch_p38",
   "language": "python",
   "name": "conda_pytorch_p38"
  },
  "language_info": {
   "codemirror_mode": {
    "name": "ipython",
    "version": 3
   },
   "file_extension": ".py",
   "mimetype": "text/x-python",
   "name": "python",
   "nbconvert_exporter": "python",
   "pygments_lexer": "ipython3",
   "version": "3.8.12"
  }
 },
 "nbformat": 4,
 "nbformat_minor": 5
}
